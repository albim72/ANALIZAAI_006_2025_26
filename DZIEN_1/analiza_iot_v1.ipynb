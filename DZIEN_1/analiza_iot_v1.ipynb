{
 "cells":[
  {
   "cell_type":"markdown",
   "source":[
    "OPIS -> analiza danych pochodzących z 10 czujników IOT przez 24 godziny co 10 min<br>\n",
    "badany tensor [10,144,3] -> 10 czujników, 144 pomiary, 3 parametry: temperatura,wilgotnośc,ciśnienie"
   ],
   "attachments":{},
   "metadata":{
    "datalore":{
     "node_id":"7DtdXzLtyvi4wQEUqxHktK",
     "type":"MD",
     "hide_input_from_viewers":true,
     "hide_output_from_viewers":true
    }
   }
  },
  {
   "cell_type":"code",
   "source":[
    "import numpy as np\n",
    "import pandas as pd\n",
    "import matplotlib.pyplot as plt"
   ],
   "execution_count":1,
   "outputs":[],
   "metadata":{
    "datalore":{
     "node_id":"s8QLu4gSPfXkSAwJYMZXEr",
     "type":"CODE",
     "hide_input_from_viewers":true,
     "hide_output_from_viewers":true
    }
   }
  },
  {
   "cell_type":"code",
   "source":[
    "#tworzymy tesnor3D (czujnik,czas,parametr)\n",
    "np.random.seed(42)\n",
    "num_sensors=10\n",
    "time_steps=144\n",
    "num_features=3"
   ],
   "execution_count":2,
   "outputs":[],
   "metadata":{
    "datalore":{
     "node_id":"lnqm7Om9CmMABZ0laXFjbG",
     "type":"CODE",
     "hide_input_from_viewers":true,
     "hide_output_from_viewers":true
    }
   }
  },
  {
   "cell_type":"code",
   "source":[
    "#proces utworzenia tensora\n",
    "tensor_data = np.random.normal(loc=[22,50,1013],scale=[1,5,10],size=(num_sensors,time_steps,num_features))"
   ],
   "execution_count":3,
   "outputs":[],
   "metadata":{
    "datalore":{
     "node_id":"99HDsIHLQYGyAD65qXCgiC",
     "type":"CODE",
     "hide_input_from_viewers":true,
     "hide_output_from_viewers":true
    }
   }
  },
  {
   "cell_type":"code",
   "source":[
    "print(f\"kształt tensora: {tensor_data.shape}\")"
   ],
   "execution_count":4,
   "outputs":[
    {
     "name":"stdout",
     "text":[
      "kształt tensora: (10, 144, 3)\n"
     ],
     "output_type":"stream"
    }
   ],
   "metadata":{
    "datalore":{
     "node_id":"cuADAzhWIZrLfsqVEUBeAi",
     "type":"CODE",
     "hide_input_from_viewers":true,
     "hide_output_from_viewers":true
    }
   }
  },
  {
   "cell_type":"code",
   "source":[
    "#przekształcenie do formatu DataFrame\n",
    "sensor_ids = np.arange(1,num_sensors+1)\n",
    "time_index = pd.date_range(\"2025-06-23\",periods=time_steps,freq=\"10min\")\n",
    "feature_names = ['temperature','humidity','pressure']"
   ],
   "execution_count":6,
   "outputs":[],
   "metadata":{
    "datalore":{
     "node_id":"GjYUZShH4aBwXIoxsy7ZQD",
     "type":"CODE",
     "hide_input_from_viewers":true,
     "hide_output_from_viewers":true
    }
   }
  },
  {
   "cell_type":"code",
   "source":[
    "records = []\n",
    "for sensor in range(num_sensors):\n",
    "    for t in range(time_steps):\n",
    "        record = {\n",
    "            \"sensor_id\":sensor_ids[sensor],\n",
    "            \"timestamp\":time_index[t],\n",
    "            \"temperature\":tensor_data[sensor,t,0],\n",
    "            \"humidity\":tensor_data[sensor,t,1],\n",
    "            \"pressure\":tensor_data[sensor,t,2],\n",
    "        }\n",
    "        records.append(record)"
   ],
   "execution_count":7,
   "outputs":[],
   "metadata":{
    "datalore":{
     "node_id":"5zD2jg4OyDevVxL6aoCrF8",
     "type":"CODE",
     "hide_input_from_viewers":true,
     "hide_output_from_viewers":true
    }
   }
  },
  {
   "cell_type":"code",
   "source":[
    "df = pd.DataFrame.from_records(records)\n",
    "df.head(5)"
   ],
   "execution_count":8,
   "outputs":[
    {
     "data":{
      "text\/html":[
       "<div>\n",
       "<style scoped>\n",
       "    .dataframe tbody tr th:only-of-type {\n",
       "        vertical-align: middle;\n",
       "    }\n",
       "\n",
       "    .dataframe tbody tr th {\n",
       "        vertical-align: top;\n",
       "    }\n",
       "\n",
       "    .dataframe thead th {\n",
       "        text-align: right;\n",
       "    }\n",
       "<\/style>\n",
       "<table border=\"1\" class=\"dataframe\">\n",
       "  <thead>\n",
       "    <tr style=\"text-align: right;\">\n",
       "      <th><\/th>\n",
       "      <th>sensor_id<\/th>\n",
       "      <th>timestamp<\/th>\n",
       "      <th>temperature<\/th>\n",
       "      <th>humidity<\/th>\n",
       "      <th>pressure<\/th>\n",
       "    <\/tr>\n",
       "  <\/thead>\n",
       "  <tbody>\n",
       "    <tr>\n",
       "      <th>0<\/th>\n",
       "      <td>1<\/td>\n",
       "      <td>2025-06-23 00:00:00<\/td>\n",
       "      <td>22.496714<\/td>\n",
       "      <td>49.308678<\/td>\n",
       "      <td>1019.476885<\/td>\n",
       "    <\/tr>\n",
       "    <tr>\n",
       "      <th>1<\/th>\n",
       "      <td>1<\/td>\n",
       "      <td>2025-06-23 00:10:00<\/td>\n",
       "      <td>23.523030<\/td>\n",
       "      <td>48.829233<\/td>\n",
       "      <td>1010.658630<\/td>\n",
       "    <\/tr>\n",
       "    <tr>\n",
       "      <th>2<\/th>\n",
       "      <td>1<\/td>\n",
       "      <td>2025-06-23 00:20:00<\/td>\n",
       "      <td>23.579213<\/td>\n",
       "      <td>53.837174<\/td>\n",
       "      <td>1008.305256<\/td>\n",
       "    <\/tr>\n",
       "    <tr>\n",
       "      <th>3<\/th>\n",
       "      <td>1<\/td>\n",
       "      <td>2025-06-23 00:30:00<\/td>\n",
       "      <td>22.542560<\/td>\n",
       "      <td>47.682912<\/td>\n",
       "      <td>1008.342702<\/td>\n",
       "    <\/tr>\n",
       "    <tr>\n",
       "      <th>4<\/th>\n",
       "      <td>1<\/td>\n",
       "      <td>2025-06-23 00:40:00<\/td>\n",
       "      <td>22.241962<\/td>\n",
       "      <td>40.433599<\/td>\n",
       "      <td>995.750822<\/td>\n",
       "    <\/tr>\n",
       "  <\/tbody>\n",
       "<\/table>\n",
       "<\/div>"
      ]
     },
     "metadata":{},
     "output_type":"display_data"
    }
   ],
   "metadata":{
    "datalore":{
     "node_id":"JXR9IXDcaz6EkDZjHrrrTr",
     "type":"CODE",
     "hide_input_from_viewers":true,
     "hide_output_from_viewers":true
    }
   }
  },
  {
   "cell_type":"code",
   "source":[
    "df.tail(10)"
   ],
   "execution_count":9,
   "outputs":[
    {
     "data":{
      "text\/html":[
       "<div>\n",
       "<style scoped>\n",
       "    .dataframe tbody tr th:only-of-type {\n",
       "        vertical-align: middle;\n",
       "    }\n",
       "\n",
       "    .dataframe tbody tr th {\n",
       "        vertical-align: top;\n",
       "    }\n",
       "\n",
       "    .dataframe thead th {\n",
       "        text-align: right;\n",
       "    }\n",
       "<\/style>\n",
       "<table border=\"1\" class=\"dataframe\">\n",
       "  <thead>\n",
       "    <tr style=\"text-align: right;\">\n",
       "      <th><\/th>\n",
       "      <th>sensor_id<\/th>\n",
       "      <th>timestamp<\/th>\n",
       "      <th>temperature<\/th>\n",
       "      <th>humidity<\/th>\n",
       "      <th>pressure<\/th>\n",
       "    <\/tr>\n",
       "  <\/thead>\n",
       "  <tbody>\n",
       "    <tr>\n",
       "      <th>1430<\/th>\n",
       "      <td>10<\/td>\n",
       "      <td>2025-06-23 22:20:00<\/td>\n",
       "      <td>22.508608<\/td>\n",
       "      <td>47.848453<\/td>\n",
       "      <td>998.159433<\/td>\n",
       "    <\/tr>\n",
       "    <tr>\n",
       "      <th>1431<\/th>\n",
       "      <td>10<\/td>\n",
       "      <td>2025-06-23 22:30:00<\/td>\n",
       "      <td>21.791532<\/td>\n",
       "      <td>56.033041<\/td>\n",
       "      <td>997.728321<\/td>\n",
       "    <\/tr>\n",
       "    <tr>\n",
       "      <th>1432<\/th>\n",
       "      <td>10<\/td>\n",
       "      <td>2025-06-23 22:40:00<\/td>\n",
       "      <td>20.944911<\/td>\n",
       "      <td>50.631339<\/td>\n",
       "      <td>1003.153452<\/td>\n",
       "    <\/tr>\n",
       "    <tr>\n",
       "      <th>1433<\/th>\n",
       "      <td>10<\/td>\n",
       "      <td>2025-06-23 22:50:00<\/td>\n",
       "      <td>21.207477<\/td>\n",
       "      <td>47.882007<\/td>\n",
       "      <td>999.343826<\/td>\n",
       "    <\/tr>\n",
       "    <tr>\n",
       "      <th>1434<\/th>\n",
       "      <td>10<\/td>\n",
       "      <td>2025-06-23 23:00:00<\/td>\n",
       "      <td>21.025878<\/td>\n",
       "      <td>53.517140<\/td>\n",
       "      <td>999.926302<\/td>\n",
       "    <\/tr>\n",
       "    <tr>\n",
       "      <th>1435<\/th>\n",
       "      <td>10<\/td>\n",
       "      <td>2025-06-23 23:10:00<\/td>\n",
       "      <td>20.402128<\/td>\n",
       "      <td>46.849875<\/td>\n",
       "      <td>1020.319555<\/td>\n",
       "    <\/tr>\n",
       "    <tr>\n",
       "      <th>1436<\/th>\n",
       "      <td>10<\/td>\n",
       "      <td>2025-06-23 23:20:00<\/td>\n",
       "      <td>21.803078<\/td>\n",
       "      <td>47.677095<\/td>\n",
       "      <td>1013.443588<\/td>\n",
       "    <\/tr>\n",
       "    <tr>\n",
       "      <th>1437<\/th>\n",
       "      <td>10<\/td>\n",
       "      <td>2025-06-23 23:30:00<\/td>\n",
       "      <td>20.254293<\/td>\n",
       "      <td>52.473528<\/td>\n",
       "      <td>1016.834350<\/td>\n",
       "    <\/tr>\n",
       "    <tr>\n",
       "      <th>1438<\/th>\n",
       "      <td>10<\/td>\n",
       "      <td>2025-06-23 23:40:00<\/td>\n",
       "      <td>21.590692<\/td>\n",
       "      <td>55.029623<\/td>\n",
       "      <td>1001.725039<\/td>\n",
       "    <\/tr>\n",
       "    <tr>\n",
       "      <th>1439<\/th>\n",
       "      <td>10<\/td>\n",
       "      <td>2025-06-23 23:50:00<\/td>\n",
       "      <td>23.127909<\/td>\n",
       "      <td>50.772468<\/td>\n",
       "      <td>1009.634474<\/td>\n",
       "    <\/tr>\n",
       "  <\/tbody>\n",
       "<\/table>\n",
       "<\/div>"
      ]
     },
     "metadata":{},
     "output_type":"display_data"
    }
   ],
   "metadata":{
    "datalore":{
     "node_id":"X2sCUD4qnqo4GWfJey04TN",
     "type":"CODE",
     "hide_input_from_viewers":true,
     "hide_output_from_viewers":true
    }
   }
  },
  {
   "cell_type":"code",
   "source":[
    "#przykład analizy - srednia temperatura każdego czujnika"
   ],
   "execution_count":null,
   "outputs":[],
   "metadata":{
    "datalore":{
     "node_id":"UmRvbszhdeMICJCb3yuqfl",
     "type":"CODE",
     "hide_input_from_viewers":true,
     "hide_output_from_viewers":true
    }
   }
  }
 ],
 "metadata":{
  "kernelspec":{
   "display_name":"Python",
   "language":"python",
   "name":"python"
  },
  "datalore":{
   "computation_mode":"JUPYTER",
   "package_manager":"pip",
   "base_environment":"default_3_11",
   "packages":[],
   "report_row_ids":[],
   "report_tabs":[],
   "version":4
  }
 },
 "nbformat":4,
 "nbformat_minor":4
}